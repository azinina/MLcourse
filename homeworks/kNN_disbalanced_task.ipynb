{
 "cells": [
  {
   "cell_type": "markdown",
   "metadata": {},
   "source": [
    "1) Запишите данные из репозитория в таблицу\n",
    "\n",
    "\n",
    "url = 'https://archive.ics.uci.edu/ml/machine-learning-databases/adult/adult.data'"
   ]
  },
  {
   "cell_type": "markdown",
   "metadata": {},
   "source": [
    "2) Озаглавьте колонки, замените значения классов на [0,1]"
   ]
  },
  {
   "cell_type": "markdown",
   "metadata": {},
   "source": [
    "3) Удалите столбец \"fnlwgt\", он не несёт полезной информации.\n",
    "\n",
    "Подумайте, какой ещё столбец можно удалить без потери качества."
   ]
  },
  {
   "cell_type": "markdown",
   "metadata": {},
   "source": [
    "4)Проверьте, нет ли пропусков в данных."
   ]
  },
  {
   "cell_type": "markdown",
   "metadata": {},
   "source": [
    "5) Разбейте выборку на обучающую и контрольную, используя стратификацию."
   ]
  },
  {
   "cell_type": "markdown",
   "metadata": {},
   "source": [
    "6) Стандартизируйте количественные данные, закодируйте категориальные."
   ]
  },
  {
   "cell_type": "markdown",
   "metadata": {},
   "source": [
    "7) Обучите KNeighborsClassifier(n_neighbors=11), посмотрите на accuracy, roc_auc и f1."
   ]
  },
  {
   "cell_type": "markdown",
   "metadata": {},
   "source": [
    "8) kNN в случае несбалансированных классов даёт невысокое значение f1.\n",
    "\n",
    "У KNeighborsClassifier нет параметра class_weight='balanced'. Нам придётся использовать oversampling или undersampling.\n",
    "\n",
    "Остановимся на oversampling. Случайным образом выберите объекты класса \"1\", копии которых нужно добавить в обучающую выбрку, чтобы отношение классов стало 1:1. Используйте **np.random.randint**."
   ]
  },
  {
   "cell_type": "markdown",
   "metadata": {},
   "source": [
    "9) Снова посмотрите на качество классификации. Изменилось ли оно?"
   ]
  }
 ],
 "metadata": {
  "anaconda-cloud": {},
  "kernelspec": {
   "display_name": "Python 3",
   "language": "python",
   "name": "python3"
  },
  "language_info": {
   "codemirror_mode": {
    "name": "ipython",
    "version": 3
   },
   "file_extension": ".py",
   "mimetype": "text/x-python",
   "name": "python",
   "nbconvert_exporter": "python",
   "pygments_lexer": "ipython3",
   "version": "3.5.1"
  },
  "latex_envs": {
   "bibliofile": "biblio.bib",
   "cite_by": "apalike",
   "current_citInitial": 1,
   "eqLabelWithNumbers": true,
   "eqNumInitial": 0
  }
 },
 "nbformat": 4,
 "nbformat_minor": 1
}
