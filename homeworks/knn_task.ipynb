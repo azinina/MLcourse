{
 "cells": [
  {
   "cell_type": "code",
   "execution_count": 1,
   "metadata": {
    "collapsed": true
   },
   "outputs": [],
   "source": [
    "import pandas as pd\n",
    "import numpy as np\n",
    "from sklearn import metrics, cross_validation,  grid_search, neighbors, preprocessing, feature_extraction, pipeline"
   ]
  },
  {
   "cell_type": "markdown",
   "metadata": {},
   "source": [
    "1) Поместите данные из репозитория в таблицу \"data\"\n",
    "\n",
    "url='http://archive.ics.uci.edu/ml/machine-learning-databases/statlog/heart/heart.dat'"
   ]
  },
  {
   "cell_type": "markdown",
   "metadata": {},
   "source": [
    "2) Озаглавьте колонки; посмотрите на баланс классов"
   ]
  },
  {
   "cell_type": "markdown",
   "metadata": {},
   "source": [
    "3) Разделите выборку на тестовую и обучающую"
   ]
  },
  {
   "cell_type": "markdown",
   "metadata": {},
   "source": [
    "4) Обучите KNeighborsClassifier с параметрами по умолчаниюи"
   ]
  },
  {
   "cell_type": "markdown",
   "metadata": {},
   "source": [
    "5) Применим Pipeline \n",
    "\n",
    "**Шаг 1: обработка признаков**\n",
    "\n",
    "   **1.1** Извлеките отдельно категориальные, бинарные, количественные признаки.Для извлечения признаков используйте [preprocessing.FunctionTransformer](http://scikit-learn.org/stable/auto_examples/preprocessing/plot_function_transformer.html#sphx-glr-auto-examples-preprocessing-plot-function-transformer-py)\n",
    "   \n",
    "   Обратите внимание на пример по ссылке. В нашей работе можно не определять функцию классическим способом, а использовать lambda-функцию для извлечения соответствующих строк.\n",
    "   \n",
    "   Например, определим индексы колонок бинарных признаков: \n",
    "   \n",
    "   **bin_indices = np.array([(c in bin_cols) for c in data.columns], dtype = bool)**,где bin_cols - список имён бинарных признаков.\n",
    "   \n",
    "   Для извлечения бинарных признаков запишем: **preprocessing.FunctionTransformer(lambda data: data[:, bin_indices])**\n",
    "   \n",
    "   **1.2** Для категориальных признаков необходимо использовать pipeline ещё раз, т.к. категориальные признаки нужно не только извлечь, но и применить к ним [preprocessing.OneHotEncoder](http://scikit-learn.org/stable/modules/generated/sklearn.preprocessing.OneHotEncoder.html)\n",
    "   \n",
    "   **1.3** Соедините результаты отдельной обработки признаков с помощью [pipeline.FeatureUnion](http://scikit-learn.org/stable/auto_examples/feature_stacker.html#sphx-glr-auto-examples-feature-stacker-py)\n",
    "   \n",
    "\n",
    "**Шаг 2: классификатор, определённый ранее**"
   ]
  },
  {
   "cell_type": "markdown",
   "metadata": {},
   "source": [
    "6) Посмотрите на параметры модели, которые можно оптимизировать"
   ]
  },
  {
   "cell_type": "markdown",
   "metadata": {},
   "source": [
    "7) С помощью grid_search найдите оптимальное число соседей и метрику"
   ]
  },
  {
   "cell_type": "markdown",
   "metadata": {},
   "source": [
    "8) Получите оценку качества на отложенной выборке"
   ]
  },
  {
   "cell_type": "markdown",
   "metadata": {},
   "source": [
    "Представим, что есть два признака, масштаб которых отличается в 100 раз\n",
    "\n",
    "Объект $x_1: f_1=100, f_2=1$\n",
    "\n",
    "Объект $x_2: f_1=150, f_2=2$\n",
    "\n",
    "Объект $x_3: f_1=130, f_2=1.2$\n",
    "\n",
    "\n",
    "\n",
    "\n",
    " При этом второй признак гораздо важнее\n",
    "\n",
    " \n",
    "Расстояние от 3 до 1 объекта  меньше расстояния от 2 до 3, поэтому 3 объект будет отнесён к классу 2. Хотя мы считаем, что класс почти полностью определяется признаком 2. Т.е. объект должен быть отнесён к классу 1\n",
    "\n",
    "\n",
    " $$\\rho(x_1,x_3)=\\sqrt{900+0.04}\\approx 30$$\n",
    "\n",
    "$$\\rho(x_2,x_3)=\\sqrt{400+0.64}\\approx 20$$\n",
    "\n",
    "Поэтому рекомендуется стандартизировать данные методами, о которых говорилось ранее\n"
   ]
  },
  {
   "cell_type": "markdown",
   "metadata": {},
   "source": [
    "9) Добавьте в Pipeline стандартизацию количественных признаков. Проделайте шаги 7-8"
   ]
  }
 ],
 "metadata": {
  "anaconda-cloud": {},
  "kernelspec": {
   "display_name": "Python 3",
   "language": "python",
   "name": "python3"
  },
  "language_info": {
   "codemirror_mode": {
    "name": "ipython",
    "version": 3
   },
   "file_extension": ".py",
   "mimetype": "text/x-python",
   "name": "python",
   "nbconvert_exporter": "python",
   "pygments_lexer": "ipython3",
   "version": "3.5.1"
  },
  "latex_envs": {
   "bibliofile": "biblio.bib",
   "cite_by": "apalike",
   "current_citInitial": 1,
   "eqLabelWithNumbers": true,
   "eqNumInitial": 0
  }
 },
 "nbformat": 4,
 "nbformat_minor": 1
}
